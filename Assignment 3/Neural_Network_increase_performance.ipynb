{
  "nbformat": 4,
  "nbformat_minor": 0,
  "metadata": {
    "colab": {
      "provenance": [],
      "authorship_tag": "ABX9TyPMVLTuRWQ4tjozIyf43alp",
      "include_colab_link": true
    },
    "kernelspec": {
      "name": "python3",
      "display_name": "Python 3"
    },
    "language_info": {
      "name": "python"
    }
  },
  "cells": [
    {
      "cell_type": "markdown",
      "metadata": {
        "id": "view-in-github",
        "colab_type": "text"
      },
      "source": [
        "<a href=\"https://colab.research.google.com/github/Durjoy001/Machine_Learning_Lab/blob/main/Neural_Network_increase_performance.ipynb\" target=\"_parent\"><img src=\"https://colab.research.google.com/assets/colab-badge.svg\" alt=\"Open In Colab\"/></a>"
      ]
    },
    {
      "cell_type": "code",
      "execution_count": 1,
      "metadata": {
        "id": "1qgRDkCMaH1U"
      },
      "outputs": [],
      "source": [
        "from numpy import loadtxt\n",
        "from sklearn.model_selection import train_test_split\n",
        "import keras\n",
        "from keras.models import Sequential\n",
        "from keras.layers import Dense\n",
        "from keras.layers import LeakyReLU,PReLU,ELU\n",
        "from keras.layers import Dropout\n",
        "import pandas as pd\n",
        "import matplotlib.pyplot as plt\n",
        "import csv\n",
        "import numpy as np\n",
        "import seaborn as sns\n",
        "from google.colab import drive"
      ]
    },
    {
      "cell_type": "code",
      "source": [
        "!gdown 1PSeDvzPdTNyw-OYa8LAjAvNzMe7fu4x4"
      ],
      "metadata": {
        "colab": {
          "base_uri": "https://localhost:8080/"
        },
        "id": "PKzOXRsnaPAx",
        "outputId": "f4d8d737-37b5-403d-da24-341a76124040"
      },
      "execution_count": 2,
      "outputs": [
        {
          "output_type": "stream",
          "name": "stdout",
          "text": [
            "Downloading...\n",
            "From: https://drive.google.com/uc?id=1PSeDvzPdTNyw-OYa8LAjAvNzMe7fu4x4\n",
            "To: /content/nn_data.txt\n",
            "\r  0% 0.00/24.0k [00:00<?, ?B/s]\r100% 24.0k/24.0k [00:00<00:00, 20.8MB/s]\n"
          ]
        }
      ]
    },
    {
      "cell_type": "code",
      "source": [
        "data_path = 'nn_data.txt'\n",
        "dataset = pd.read_csv(data_path, header=None)\n",
        "print(dataset.shape)\n",
        "print(dataset.head())"
      ],
      "metadata": {
        "colab": {
          "base_uri": "https://localhost:8080/"
        },
        "id": "pLRpXzPmaPDp",
        "outputId": "15221734-4d49-41b3-f65c-f0e1f20f1872"
      },
      "execution_count": 3,
      "outputs": [
        {
          "output_type": "stream",
          "name": "stdout",
          "text": [
            "(768, 9)\n",
            "   0    1   2   3    4     5      6   7  8\n",
            "0  6  148  72  35    0  33.6  0.627  50  1\n",
            "1  1   85  66  29    0  26.6  0.351  31  0\n",
            "2  8  183  64   0    0  23.3  0.672  32  1\n",
            "3  1   89  66  23   94  28.1  0.167  21  0\n",
            "4  0  137  40  35  168  43.1  2.288  33  1\n"
          ]
        }
      ]
    },
    {
      "cell_type": "code",
      "source": [
        "X = dataset.iloc[:,0:8]\n",
        "y = dataset.iloc[:,8]"
      ],
      "metadata": {
        "id": "HNmgZfB4aPGP"
      },
      "execution_count": 4,
      "outputs": []
    },
    {
      "cell_type": "code",
      "source": [
        "print(X.shape)\n",
        "X.head()"
      ],
      "metadata": {
        "colab": {
          "base_uri": "https://localhost:8080/",
          "height": 225
        },
        "id": "PyClFzVIaPI2",
        "outputId": "4d2311a0-5c6b-467d-9a78-138a9be646df"
      },
      "execution_count": 5,
      "outputs": [
        {
          "output_type": "stream",
          "name": "stdout",
          "text": [
            "(768, 8)\n"
          ]
        },
        {
          "output_type": "execute_result",
          "data": {
            "text/plain": [
              "   0    1   2   3    4     5      6   7\n",
              "0  6  148  72  35    0  33.6  0.627  50\n",
              "1  1   85  66  29    0  26.6  0.351  31\n",
              "2  8  183  64   0    0  23.3  0.672  32\n",
              "3  1   89  66  23   94  28.1  0.167  21\n",
              "4  0  137  40  35  168  43.1  2.288  33"
            ],
            "text/html": [
              "\n",
              "  <div id=\"df-210955e0-bdb7-4da1-a4de-000e91d26c7c\">\n",
              "    <div class=\"colab-df-container\">\n",
              "      <div>\n",
              "<style scoped>\n",
              "    .dataframe tbody tr th:only-of-type {\n",
              "        vertical-align: middle;\n",
              "    }\n",
              "\n",
              "    .dataframe tbody tr th {\n",
              "        vertical-align: top;\n",
              "    }\n",
              "\n",
              "    .dataframe thead th {\n",
              "        text-align: right;\n",
              "    }\n",
              "</style>\n",
              "<table border=\"1\" class=\"dataframe\">\n",
              "  <thead>\n",
              "    <tr style=\"text-align: right;\">\n",
              "      <th></th>\n",
              "      <th>0</th>\n",
              "      <th>1</th>\n",
              "      <th>2</th>\n",
              "      <th>3</th>\n",
              "      <th>4</th>\n",
              "      <th>5</th>\n",
              "      <th>6</th>\n",
              "      <th>7</th>\n",
              "    </tr>\n",
              "  </thead>\n",
              "  <tbody>\n",
              "    <tr>\n",
              "      <th>0</th>\n",
              "      <td>6</td>\n",
              "      <td>148</td>\n",
              "      <td>72</td>\n",
              "      <td>35</td>\n",
              "      <td>0</td>\n",
              "      <td>33.6</td>\n",
              "      <td>0.627</td>\n",
              "      <td>50</td>\n",
              "    </tr>\n",
              "    <tr>\n",
              "      <th>1</th>\n",
              "      <td>1</td>\n",
              "      <td>85</td>\n",
              "      <td>66</td>\n",
              "      <td>29</td>\n",
              "      <td>0</td>\n",
              "      <td>26.6</td>\n",
              "      <td>0.351</td>\n",
              "      <td>31</td>\n",
              "    </tr>\n",
              "    <tr>\n",
              "      <th>2</th>\n",
              "      <td>8</td>\n",
              "      <td>183</td>\n",
              "      <td>64</td>\n",
              "      <td>0</td>\n",
              "      <td>0</td>\n",
              "      <td>23.3</td>\n",
              "      <td>0.672</td>\n",
              "      <td>32</td>\n",
              "    </tr>\n",
              "    <tr>\n",
              "      <th>3</th>\n",
              "      <td>1</td>\n",
              "      <td>89</td>\n",
              "      <td>66</td>\n",
              "      <td>23</td>\n",
              "      <td>94</td>\n",
              "      <td>28.1</td>\n",
              "      <td>0.167</td>\n",
              "      <td>21</td>\n",
              "    </tr>\n",
              "    <tr>\n",
              "      <th>4</th>\n",
              "      <td>0</td>\n",
              "      <td>137</td>\n",
              "      <td>40</td>\n",
              "      <td>35</td>\n",
              "      <td>168</td>\n",
              "      <td>43.1</td>\n",
              "      <td>2.288</td>\n",
              "      <td>33</td>\n",
              "    </tr>\n",
              "  </tbody>\n",
              "</table>\n",
              "</div>\n",
              "      <button class=\"colab-df-convert\" onclick=\"convertToInteractive('df-210955e0-bdb7-4da1-a4de-000e91d26c7c')\"\n",
              "              title=\"Convert this dataframe to an interactive table.\"\n",
              "              style=\"display:none;\">\n",
              "        \n",
              "  <svg xmlns=\"http://www.w3.org/2000/svg\" height=\"24px\"viewBox=\"0 0 24 24\"\n",
              "       width=\"24px\">\n",
              "    <path d=\"M0 0h24v24H0V0z\" fill=\"none\"/>\n",
              "    <path d=\"M18.56 5.44l.94 2.06.94-2.06 2.06-.94-2.06-.94-.94-2.06-.94 2.06-2.06.94zm-11 1L8.5 8.5l.94-2.06 2.06-.94-2.06-.94L8.5 2.5l-.94 2.06-2.06.94zm10 10l.94 2.06.94-2.06 2.06-.94-2.06-.94-.94-2.06-.94 2.06-2.06.94z\"/><path d=\"M17.41 7.96l-1.37-1.37c-.4-.4-.92-.59-1.43-.59-.52 0-1.04.2-1.43.59L10.3 9.45l-7.72 7.72c-.78.78-.78 2.05 0 2.83L4 21.41c.39.39.9.59 1.41.59.51 0 1.02-.2 1.41-.59l7.78-7.78 2.81-2.81c.8-.78.8-2.07 0-2.86zM5.41 20L4 18.59l7.72-7.72 1.47 1.35L5.41 20z\"/>\n",
              "  </svg>\n",
              "      </button>\n",
              "      \n",
              "  <style>\n",
              "    .colab-df-container {\n",
              "      display:flex;\n",
              "      flex-wrap:wrap;\n",
              "      gap: 12px;\n",
              "    }\n",
              "\n",
              "    .colab-df-convert {\n",
              "      background-color: #E8F0FE;\n",
              "      border: none;\n",
              "      border-radius: 50%;\n",
              "      cursor: pointer;\n",
              "      display: none;\n",
              "      fill: #1967D2;\n",
              "      height: 32px;\n",
              "      padding: 0 0 0 0;\n",
              "      width: 32px;\n",
              "    }\n",
              "\n",
              "    .colab-df-convert:hover {\n",
              "      background-color: #E2EBFA;\n",
              "      box-shadow: 0px 1px 2px rgba(60, 64, 67, 0.3), 0px 1px 3px 1px rgba(60, 64, 67, 0.15);\n",
              "      fill: #174EA6;\n",
              "    }\n",
              "\n",
              "    [theme=dark] .colab-df-convert {\n",
              "      background-color: #3B4455;\n",
              "      fill: #D2E3FC;\n",
              "    }\n",
              "\n",
              "    [theme=dark] .colab-df-convert:hover {\n",
              "      background-color: #434B5C;\n",
              "      box-shadow: 0px 1px 3px 1px rgba(0, 0, 0, 0.15);\n",
              "      filter: drop-shadow(0px 1px 2px rgba(0, 0, 0, 0.3));\n",
              "      fill: #FFFFFF;\n",
              "    }\n",
              "  </style>\n",
              "\n",
              "      <script>\n",
              "        const buttonEl =\n",
              "          document.querySelector('#df-210955e0-bdb7-4da1-a4de-000e91d26c7c button.colab-df-convert');\n",
              "        buttonEl.style.display =\n",
              "          google.colab.kernel.accessAllowed ? 'block' : 'none';\n",
              "\n",
              "        async function convertToInteractive(key) {\n",
              "          const element = document.querySelector('#df-210955e0-bdb7-4da1-a4de-000e91d26c7c');\n",
              "          const dataTable =\n",
              "            await google.colab.kernel.invokeFunction('convertToInteractive',\n",
              "                                                     [key], {});\n",
              "          if (!dataTable) return;\n",
              "\n",
              "          const docLinkHtml = 'Like what you see? Visit the ' +\n",
              "            '<a target=\"_blank\" href=https://colab.research.google.com/notebooks/data_table.ipynb>data table notebook</a>'\n",
              "            + ' to learn more about interactive tables.';\n",
              "          element.innerHTML = '';\n",
              "          dataTable['output_type'] = 'display_data';\n",
              "          await google.colab.output.renderOutput(dataTable, element);\n",
              "          const docLink = document.createElement('div');\n",
              "          docLink.innerHTML = docLinkHtml;\n",
              "          element.appendChild(docLink);\n",
              "        }\n",
              "      </script>\n",
              "    </div>\n",
              "  </div>\n",
              "  "
            ]
          },
          "metadata": {},
          "execution_count": 5
        }
      ]
    },
    {
      "cell_type": "code",
      "source": [
        "model = Sequential()\n",
        "model.add(Dense(12, input_shape=(8,), activation='relu'))\n",
        "model.add(Dense(8, activation='relu'))\n",
        "model.add(Dense(8))\n",
        "model.add(LeakyReLU(alpha=0.3))\n",
        "model.add(Dense(1, activation='sigmoid'))"
      ],
      "metadata": {
        "id": "LfdaWZJ-aPK4"
      },
      "execution_count": 6,
      "outputs": []
    },
    {
      "cell_type": "code",
      "source": [
        "model.compile(loss='binary_crossentropy', optimizer='adam', metrics=['accuracy'])"
      ],
      "metadata": {
        "id": "JCS5DNybbOsk"
      },
      "execution_count": 7,
      "outputs": []
    },
    {
      "cell_type": "code",
      "source": [
        "model.fit(X, y, epochs=100, batch_size=10)"
      ],
      "metadata": {
        "colab": {
          "base_uri": "https://localhost:8080/"
        },
        "id": "COpEwoBnbOvx",
        "outputId": "b73959c8-45f1-449a-a3ea-af36aa9c5bb1"
      },
      "execution_count": 8,
      "outputs": [
        {
          "output_type": "stream",
          "name": "stdout",
          "text": [
            "Epoch 1/100\n",
            "77/77 [==============================] - 2s 2ms/step - loss: 2.4919 - accuracy: 0.5260\n",
            "Epoch 2/100\n",
            "77/77 [==============================] - 0s 2ms/step - loss: 1.1080 - accuracy: 0.5781\n",
            "Epoch 3/100\n",
            "77/77 [==============================] - 0s 4ms/step - loss: 0.9204 - accuracy: 0.6172\n",
            "Epoch 4/100\n",
            "77/77 [==============================] - 0s 4ms/step - loss: 0.7897 - accuracy: 0.6341\n",
            "Epoch 5/100\n",
            "77/77 [==============================] - 0s 3ms/step - loss: 0.6944 - accuracy: 0.6602\n",
            "Epoch 6/100\n",
            "77/77 [==============================] - 0s 3ms/step - loss: 0.6503 - accuracy: 0.6836\n",
            "Epoch 7/100\n",
            "77/77 [==============================] - 0s 3ms/step - loss: 0.6445 - accuracy: 0.6901\n",
            "Epoch 8/100\n",
            "77/77 [==============================] - 0s 3ms/step - loss: 0.6153 - accuracy: 0.6888\n",
            "Epoch 9/100\n",
            "77/77 [==============================] - 0s 3ms/step - loss: 0.6044 - accuracy: 0.6953\n",
            "Epoch 10/100\n",
            "77/77 [==============================] - 0s 2ms/step - loss: 0.5897 - accuracy: 0.7083\n",
            "Epoch 11/100\n",
            "77/77 [==============================] - 0s 2ms/step - loss: 0.5987 - accuracy: 0.6927\n",
            "Epoch 12/100\n",
            "77/77 [==============================] - 0s 3ms/step - loss: 0.5939 - accuracy: 0.7122\n",
            "Epoch 13/100\n",
            "77/77 [==============================] - 0s 3ms/step - loss: 0.5952 - accuracy: 0.6862\n",
            "Epoch 14/100\n",
            "77/77 [==============================] - 0s 3ms/step - loss: 0.5989 - accuracy: 0.7070\n",
            "Epoch 15/100\n",
            "77/77 [==============================] - 0s 3ms/step - loss: 0.6035 - accuracy: 0.6966\n",
            "Epoch 16/100\n",
            "77/77 [==============================] - 0s 3ms/step - loss: 0.6162 - accuracy: 0.6836\n",
            "Epoch 17/100\n",
            "77/77 [==============================] - 0s 2ms/step - loss: 0.5774 - accuracy: 0.7148\n",
            "Epoch 18/100\n",
            "77/77 [==============================] - 0s 2ms/step - loss: 0.5723 - accuracy: 0.7031\n",
            "Epoch 19/100\n",
            "77/77 [==============================] - 0s 2ms/step - loss: 0.5717 - accuracy: 0.7096\n",
            "Epoch 20/100\n",
            "77/77 [==============================] - 0s 2ms/step - loss: 0.5824 - accuracy: 0.7122\n",
            "Epoch 21/100\n",
            "77/77 [==============================] - 0s 2ms/step - loss: 0.5662 - accuracy: 0.7279\n",
            "Epoch 22/100\n",
            "77/77 [==============================] - 0s 2ms/step - loss: 0.5617 - accuracy: 0.7188\n",
            "Epoch 23/100\n",
            "77/77 [==============================] - 0s 2ms/step - loss: 0.5515 - accuracy: 0.7161\n",
            "Epoch 24/100\n",
            "77/77 [==============================] - 0s 2ms/step - loss: 0.5524 - accuracy: 0.7253\n",
            "Epoch 25/100\n",
            "77/77 [==============================] - 0s 2ms/step - loss: 0.5509 - accuracy: 0.7240\n",
            "Epoch 26/100\n",
            "77/77 [==============================] - 0s 2ms/step - loss: 0.5553 - accuracy: 0.7214\n",
            "Epoch 27/100\n",
            "77/77 [==============================] - 0s 2ms/step - loss: 0.5535 - accuracy: 0.7201\n",
            "Epoch 28/100\n",
            "77/77 [==============================] - 0s 2ms/step - loss: 0.5599 - accuracy: 0.7096\n",
            "Epoch 29/100\n",
            "77/77 [==============================] - 0s 2ms/step - loss: 0.5538 - accuracy: 0.7435\n",
            "Epoch 30/100\n",
            "77/77 [==============================] - 0s 2ms/step - loss: 0.5696 - accuracy: 0.7201\n",
            "Epoch 31/100\n",
            "77/77 [==============================] - 0s 2ms/step - loss: 0.5547 - accuracy: 0.7188\n",
            "Epoch 32/100\n",
            "77/77 [==============================] - 0s 2ms/step - loss: 0.5310 - accuracy: 0.7331\n",
            "Epoch 33/100\n",
            "77/77 [==============================] - 0s 2ms/step - loss: 0.5343 - accuracy: 0.7331\n",
            "Epoch 34/100\n",
            "77/77 [==============================] - 0s 2ms/step - loss: 0.5754 - accuracy: 0.7357\n",
            "Epoch 35/100\n",
            "77/77 [==============================] - 0s 2ms/step - loss: 0.5485 - accuracy: 0.7357\n",
            "Epoch 36/100\n",
            "77/77 [==============================] - 0s 2ms/step - loss: 0.5392 - accuracy: 0.7292\n",
            "Epoch 37/100\n",
            "77/77 [==============================] - 0s 2ms/step - loss: 0.5203 - accuracy: 0.7383\n",
            "Epoch 38/100\n",
            "77/77 [==============================] - 0s 2ms/step - loss: 0.5418 - accuracy: 0.7396\n",
            "Epoch 39/100\n",
            "77/77 [==============================] - 0s 2ms/step - loss: 0.5270 - accuracy: 0.7409\n",
            "Epoch 40/100\n",
            "77/77 [==============================] - 0s 2ms/step - loss: 0.5277 - accuracy: 0.7357\n",
            "Epoch 41/100\n",
            "77/77 [==============================] - 0s 2ms/step - loss: 0.5312 - accuracy: 0.7396\n",
            "Epoch 42/100\n",
            "77/77 [==============================] - 0s 2ms/step - loss: 0.5226 - accuracy: 0.7565\n",
            "Epoch 43/100\n",
            "77/77 [==============================] - 0s 2ms/step - loss: 0.5417 - accuracy: 0.7331\n",
            "Epoch 44/100\n",
            "77/77 [==============================] - 0s 2ms/step - loss: 0.5419 - accuracy: 0.7370\n",
            "Epoch 45/100\n",
            "77/77 [==============================] - 0s 2ms/step - loss: 0.5124 - accuracy: 0.7526\n",
            "Epoch 46/100\n",
            "77/77 [==============================] - 0s 2ms/step - loss: 0.5136 - accuracy: 0.7461\n",
            "Epoch 47/100\n",
            "77/77 [==============================] - 0s 2ms/step - loss: 0.5211 - accuracy: 0.7344\n",
            "Epoch 48/100\n",
            "77/77 [==============================] - 0s 2ms/step - loss: 0.5104 - accuracy: 0.7370\n",
            "Epoch 49/100\n",
            "77/77 [==============================] - 0s 2ms/step - loss: 0.5124 - accuracy: 0.7617\n",
            "Epoch 50/100\n",
            "77/77 [==============================] - 0s 2ms/step - loss: 0.5086 - accuracy: 0.7474\n",
            "Epoch 51/100\n",
            "77/77 [==============================] - 0s 2ms/step - loss: 0.5239 - accuracy: 0.7331\n",
            "Epoch 52/100\n",
            "77/77 [==============================] - 0s 2ms/step - loss: 0.5068 - accuracy: 0.7513\n",
            "Epoch 53/100\n",
            "77/77 [==============================] - 0s 2ms/step - loss: 0.5098 - accuracy: 0.7357\n",
            "Epoch 54/100\n",
            "77/77 [==============================] - 0s 2ms/step - loss: 0.5071 - accuracy: 0.7474\n",
            "Epoch 55/100\n",
            "77/77 [==============================] - 0s 2ms/step - loss: 0.5050 - accuracy: 0.7474\n",
            "Epoch 56/100\n",
            "77/77 [==============================] - 0s 2ms/step - loss: 0.5001 - accuracy: 0.7617\n",
            "Epoch 57/100\n",
            "77/77 [==============================] - 0s 2ms/step - loss: 0.5066 - accuracy: 0.7357\n",
            "Epoch 58/100\n",
            "77/77 [==============================] - 0s 2ms/step - loss: 0.5103 - accuracy: 0.7565\n",
            "Epoch 59/100\n",
            "77/77 [==============================] - 0s 2ms/step - loss: 0.5064 - accuracy: 0.7578\n",
            "Epoch 60/100\n",
            "77/77 [==============================] - 0s 2ms/step - loss: 0.5263 - accuracy: 0.7487\n",
            "Epoch 61/100\n",
            "77/77 [==============================] - 0s 2ms/step - loss: 0.4973 - accuracy: 0.7461\n",
            "Epoch 62/100\n",
            "77/77 [==============================] - 0s 2ms/step - loss: 0.5101 - accuracy: 0.7487\n",
            "Epoch 63/100\n",
            "77/77 [==============================] - 0s 2ms/step - loss: 0.4890 - accuracy: 0.7604\n",
            "Epoch 64/100\n",
            "77/77 [==============================] - 0s 2ms/step - loss: 0.5006 - accuracy: 0.7461\n",
            "Epoch 65/100\n",
            "77/77 [==============================] - 0s 2ms/step - loss: 0.5054 - accuracy: 0.7539\n",
            "Epoch 66/100\n",
            "77/77 [==============================] - 0s 2ms/step - loss: 0.4886 - accuracy: 0.7578\n",
            "Epoch 67/100\n",
            "77/77 [==============================] - 0s 2ms/step - loss: 0.5016 - accuracy: 0.7513\n",
            "Epoch 68/100\n",
            "77/77 [==============================] - 0s 2ms/step - loss: 0.5011 - accuracy: 0.7539\n",
            "Epoch 69/100\n",
            "77/77 [==============================] - 0s 2ms/step - loss: 0.4940 - accuracy: 0.7682\n",
            "Epoch 70/100\n",
            "77/77 [==============================] - 0s 2ms/step - loss: 0.4937 - accuracy: 0.7513\n",
            "Epoch 71/100\n",
            "77/77 [==============================] - 0s 2ms/step - loss: 0.4940 - accuracy: 0.7539\n",
            "Epoch 72/100\n",
            "77/77 [==============================] - 0s 2ms/step - loss: 0.4996 - accuracy: 0.7578\n",
            "Epoch 73/100\n",
            "77/77 [==============================] - 0s 2ms/step - loss: 0.4923 - accuracy: 0.7526\n",
            "Epoch 74/100\n",
            "77/77 [==============================] - 0s 2ms/step - loss: 0.4967 - accuracy: 0.7552\n",
            "Epoch 75/100\n",
            "77/77 [==============================] - 0s 2ms/step - loss: 0.5368 - accuracy: 0.7240\n",
            "Epoch 76/100\n",
            "77/77 [==============================] - 0s 2ms/step - loss: 0.5060 - accuracy: 0.7643\n",
            "Epoch 77/100\n",
            "77/77 [==============================] - 0s 2ms/step - loss: 0.5012 - accuracy: 0.7656\n",
            "Epoch 78/100\n",
            "77/77 [==============================] - 0s 2ms/step - loss: 0.5010 - accuracy: 0.7500\n",
            "Epoch 79/100\n",
            "77/77 [==============================] - 0s 2ms/step - loss: 0.4830 - accuracy: 0.7826\n",
            "Epoch 80/100\n",
            "77/77 [==============================] - 0s 2ms/step - loss: 0.4941 - accuracy: 0.7773\n",
            "Epoch 81/100\n",
            "77/77 [==============================] - 0s 3ms/step - loss: 0.5022 - accuracy: 0.7539\n",
            "Epoch 82/100\n",
            "77/77 [==============================] - 0s 3ms/step - loss: 0.4967 - accuracy: 0.7617\n",
            "Epoch 83/100\n",
            "77/77 [==============================] - 0s 3ms/step - loss: 0.4862 - accuracy: 0.7682\n",
            "Epoch 84/100\n",
            "77/77 [==============================] - 0s 3ms/step - loss: 0.4846 - accuracy: 0.7786\n",
            "Epoch 85/100\n",
            "77/77 [==============================] - 0s 3ms/step - loss: 0.4773 - accuracy: 0.7695\n",
            "Epoch 86/100\n",
            "77/77 [==============================] - 0s 3ms/step - loss: 0.4830 - accuracy: 0.7695\n",
            "Epoch 87/100\n",
            "77/77 [==============================] - 0s 3ms/step - loss: 0.4874 - accuracy: 0.7656\n",
            "Epoch 88/100\n",
            "77/77 [==============================] - 0s 3ms/step - loss: 0.4910 - accuracy: 0.7734\n",
            "Epoch 89/100\n",
            "77/77 [==============================] - 0s 3ms/step - loss: 0.4778 - accuracy: 0.7656\n",
            "Epoch 90/100\n",
            "77/77 [==============================] - 0s 3ms/step - loss: 0.4862 - accuracy: 0.7643\n",
            "Epoch 91/100\n",
            "77/77 [==============================] - 0s 3ms/step - loss: 0.4972 - accuracy: 0.7669\n",
            "Epoch 92/100\n",
            "77/77 [==============================] - 0s 3ms/step - loss: 0.4738 - accuracy: 0.7760\n",
            "Epoch 93/100\n",
            "77/77 [==============================] - 0s 3ms/step - loss: 0.4800 - accuracy: 0.7721\n",
            "Epoch 94/100\n",
            "77/77 [==============================] - 0s 3ms/step - loss: 0.4837 - accuracy: 0.7669\n",
            "Epoch 95/100\n",
            "77/77 [==============================] - 0s 2ms/step - loss: 0.4834 - accuracy: 0.7721\n",
            "Epoch 96/100\n",
            "77/77 [==============================] - 0s 2ms/step - loss: 0.4807 - accuracy: 0.7721\n",
            "Epoch 97/100\n",
            "77/77 [==============================] - 0s 2ms/step - loss: 0.4776 - accuracy: 0.7552\n",
            "Epoch 98/100\n",
            "77/77 [==============================] - 0s 2ms/step - loss: 0.4887 - accuracy: 0.7695\n",
            "Epoch 99/100\n",
            "77/77 [==============================] - 0s 2ms/step - loss: 0.4707 - accuracy: 0.7839\n",
            "Epoch 100/100\n",
            "77/77 [==============================] - 0s 2ms/step - loss: 0.5003 - accuracy: 0.7578\n"
          ]
        },
        {
          "output_type": "execute_result",
          "data": {
            "text/plain": [
              "<keras.callbacks.History at 0x7f7da4b75340>"
            ]
          },
          "metadata": {},
          "execution_count": 8
        }
      ]
    },
    {
      "cell_type": "code",
      "source": [
        "# evaluate the keras model\n",
        "_, accuracy = model.evaluate(X, y)\n",
        "print('Accuracy: %.2f' % (accuracy*100))"
      ],
      "metadata": {
        "colab": {
          "base_uri": "https://localhost:8080/"
        },
        "id": "v-5o4oOfbO0h",
        "outputId": "c7bf0130-c81f-4c28-fbac-1127b7d8ef76"
      },
      "execution_count": 9,
      "outputs": [
        {
          "output_type": "stream",
          "name": "stdout",
          "text": [
            "24/24 [==============================] - 1s 5ms/step - loss: 0.4905 - accuracy: 0.7552\n",
            "Accuracy: 75.52\n"
          ]
        }
      ]
    },
    {
      "cell_type": "code",
      "source": [
        "from sklearn.metrics import classification_report\n",
        "predictions = (model.predict(X) > 0.5).astype(int)\n",
        "print(classification_report(y, predictions))"
      ],
      "metadata": {
        "colab": {
          "base_uri": "https://localhost:8080/"
        },
        "id": "Ah7jQWMtbO3d",
        "outputId": "10dbb9ee-dd6e-4189-b53e-e3a158d0b1e5"
      },
      "execution_count": 11,
      "outputs": [
        {
          "output_type": "stream",
          "name": "stdout",
          "text": [
            "24/24 [==============================] - 0s 1ms/step\n",
            "              precision    recall  f1-score   support\n",
            "\n",
            "           0       0.82      0.80      0.81       500\n",
            "           1       0.64      0.67      0.66       268\n",
            "\n",
            "    accuracy                           0.76       768\n",
            "   macro avg       0.73      0.73      0.73       768\n",
            "weighted avg       0.76      0.76      0.76       768\n",
            "\n"
          ]
        }
      ]
    },
    {
      "cell_type": "code",
      "source": [],
      "metadata": {
        "id": "WZbK3U2SbO55"
      },
      "execution_count": null,
      "outputs": []
    }
  ]
}